{
 "cells": [
  {
   "attachments": {},
   "cell_type": "markdown",
   "metadata": {},
   "source": [
    "# 데이터셋 분석 및 모델 생성 코드 분석"
   ]
  },
  {
   "attachments": {},
   "cell_type": "markdown",
   "metadata": {},
   "source": [
    "## 전체 내용 요약\n",
    "\n",
    "본 문서는 병 판별 프로젝트를 위해 받은 데이터셋을 분석하여 커스텀에 필요한 데이터로 재가공하는 과정과, 커스텀 모델 제작 과정에 관한 코드를 모아 놓은 보고서입니다. "
   ]
  },
  {
   "attachments": {},
   "cell_type": "markdown",
   "metadata": {},
   "source": [
    "## 목차\n",
    "\n",
    "1. 데이터셋 분석\n",
    "    - 원본 데이터셋 분석 (+ 커스텀 데이터셋 변환)\n",
    "    - 데이터셋 라벨 분류\n",
    "2. 데이터모델 분석\n",
    "    - 커스텀 모델 설계\n",
    "        - 공통목표\n",
    "        - 1단계 (간단한 CNN 모델 테스트)\n",
    "        - 2단계 (복잡한 모델로 업그레이드)\n",
    "        - 3단계 (yolov5 커스텀 모델 학습)\n",
    "3. 결론 및 소감"
   ]
  },
  {
   "attachments": {},
   "cell_type": "markdown",
   "metadata": {},
   "source": [
    "### 1. 데이터셋 분석"
   ]
  },
  {
   "attachments": {},
   "cell_type": "markdown",
   "metadata": {},
   "source": [
    "#### 커스텀 모델 데이터셋\n",
    "\n",
    "- 링크 : https://aihub.or.kr/aihubdata/data/view.do?currMenu=115&topMenu=100&dataSetSn=71385\n",
    "- AI-Hub의 생활 폐기물 이미지 데이터 원본 551,562장 중에서, 원본 이미지와 함께 있는 JSON 파일의 태그를 활용하여 병 이미지가 있는 이미지를 1차 판별하고, 그 중에서 JSON 파일만 있거나 사진만 있는 파일들을 솎아내는 2차 판별을 시행하여, 총 72,000장의 병 이미지를 분류했습니다.\n",
    "- 분류된 이미지들을 데이터셋의 JSON label에 따라 9종으로 구분하여 각 폴더에 담은 뒤, 각 이미지를 JSON의 BBOX 좌표를 활용하여 병이 있는 부분을 잘라낸 뒤, 잘라낸 이미지를 224x224 크기로 변환하여, 예시를 위해 각 100장씩을 sample_data 폴더에 담아 놓았었습니다.\n",
    "- (1차 수정) 커스텀 모델의 학습 과정 진행 중 데이터셋의 이미지 중에 정확도를 방해하는 이미지들이 많아서, 이미지들 중 병 1개만 존재하는 이미지들만 우선 구분하기 위해, 어두운 이미지들을 밝게 처리하고, 노이즈가 낀 사진의 노이즈를 제거하여, 병의 색깔(갈색/녹색/투명)을 구분하기 위한 처리를 하는 것으로 계획을 수정했습니다."
   ]
  },
  {
   "attachments": {},
   "cell_type": "markdown",
   "metadata": {},
   "source": [
    "#### 데이터셋 라벨 분류\n",
    "\n",
    "- 데이터셋의 JSON 라벨은 다음과 같이 9종류로 분류되어 있었고, 라벨의 정확한 분류는 다음과 같습니다.\n",
    "\n",
    "|JSON 라벨|실제 라벨|\n",
    "|------|---|\n",
    "|c_4_01_01|재사용 유리 + 다중포장재|\n",
    "|c_4_01_02|재사용 유리(소주병+맥주병)|\n",
    "|c_4_02_01_01|갈색 유리 + 다중포장재|\n",
    "|c_4_02_01_02|갈색 유리|\n",
    "|c_4_02_02_01|녹색 유리 + 다중포장재|\n",
    "|c_4_02_02_02|녹색 유리|\n",
    "|c_4_02_03_01|백색 유리 + 다중포장재|\n",
    "|c_4_02_03_02|백색 유리|\n",
    "|c_4_03|기타 유리|"
   ]
  },
  {
   "attachments": {},
   "cell_type": "markdown",
   "metadata": {},
   "source": [
    "### 2. 데이터모델 분석 및 설계"
   ]
  },
  {
   "attachments": {},
   "cell_type": "markdown",
   "metadata": {},
   "source": [
    "#### 커스텀 모델 설계\n",
    "\n",
    "공통적으로 모든 모델은 x값으로 이미지를 받으며, 각 모델별로 반환하는 y값은 각 단계별로 적을 예정. 모든 모델은 pytorch를 활용해서, cuda 환경을 설치하여(RTX 2070 - CUDA 11.2 - cudnn 8.1.0) 훈련했습니다."
   ]
  },
  {
   "attachments": {},
   "cell_type": "markdown",
   "metadata": {},
   "source": [
    "#### 1단계. cnn으로 데이터셋 라벨 기준에 따라 병 종류(색깔)를 파악하여, 색깔과 bbox값을 반환하도록 하기. "
   ]
  },
  {
   "cell_type": "code",
   "execution_count": 8,
   "metadata": {},
   "outputs": [
    {
     "name": "stdout",
     "output_type": "stream",
     "text": [
      "CUDA 사용 가능\n"
     ]
    }
   ],
   "source": [
    "# 패키지 다운로드\n",
    "import torch\n",
    "import torch.nn as nn\n",
    "import torch.optim as optim\n",
    "from torch.utils.data import DataLoader\n",
    "import torchvision.transforms as transforms\n",
    "import torchvision.datasets as datasets\n",
    "\n",
    "# CUDA 지원 활성화\n",
    "if torch.cuda.is_available():\n",
    "    device = torch.device(\"cuda\")\n",
    "    print(\"CUDA 사용 가능\")\n",
    "else:\n",
    "    device = torch.device(\"cpu\")\n",
    "    print(\"CUDA 사용 불가\")\n",
    "\n",
    "# 시드 고정\n",
    "seed = 42\n",
    "torch.manual_seed(seed)\n",
    "# GPU 절약\n",
    "torch.backends.cudnn.benchmark = True\n",
    "\n",
    "# print(torch.cuda.device_count()) # 사용 가능한 장치가 몇 개인지 확인합니다.\n",
    "# print(torch.cuda.get_device_name(0)) # 첫번째 GPU의 장치명을 확인합니다.\n",
    "# print(torch.cuda.get_device_name(1)) # 두번째 GPU의 장치명을 확인합니다.\n"
   ]
  },
  {
   "cell_type": "code",
   "execution_count": 9,
   "metadata": {},
   "outputs": [],
   "source": [
    "# 이미지 라벨 생성\n",
    "def get_label_from_foldername(foldername):\n",
    "    # 각 폴더의 이름에 따라 라벨을 할당\n",
    "    if foldername == \"preprocessed_brown_glass\":\n",
    "        return \"0\"\n",
    "    elif foldername == \"preprocessed_brown_glass_packaging\":\n",
    "        return \"1\"\n",
    "    elif foldername == \"preprocessed_clear_glass\":\n",
    "        return \"2\"\n",
    "    elif foldername == \"preprocessed_clear_glass_packaging\":\n",
    "        return \"3\"\n",
    "    elif foldername == \"preprocessed_green_glass\":\n",
    "        return \"4\"\n",
    "    elif foldername == \"preprocessed_green_glass_packaging\":\n",
    "        return \"5\"\n",
    "    elif foldername == \"preprocessed_reused_glass\":\n",
    "        return \"6\"\n",
    "    elif foldername == \"preprocessed_reused_glass_packaging\":\n",
    "        return \"7\"\n",
    "    elif foldername == \"preprocessed_unclassified_glass\":\n",
    "        return \"8\"\n",
    "    else:\n",
    "        raise ValueError(f\"Invalid folder name: {foldername}\")"
   ]
  },
  {
   "cell_type": "code",
   "execution_count": 10,
   "metadata": {},
   "outputs": [],
   "source": [
    "# 데이터셋 경로\n",
    "dataset_path = \"preprocessed_image\"\n",
    "\n",
    "# 데이터셋 불러오기\n",
    "dataset = datasets.ImageFolder(\n",
    "    dataset_path,\n",
    "    # 데이터 증강을 위한 변환 함수들 정의\n",
    "    transform = transforms.Compose([\n",
    "        transforms.Resize((224, 224)),  # 이미지 크기 조정\n",
    "        # transforms.RandomResizedCrop(size=224),  # 무작위로 잘라내고 크기 조정\n",
    "        transforms.RandomHorizontalFlip(),  # 수평으로 무작위로 뒤집기\n",
    "        transforms.RandomRotation(degrees=30),  # 무작위로 회전 (±30도 범위)\n",
    "        transforms.ColorJitter(brightness=0.2, contrast=0.2, saturation=0.2, hue=0.2),  # 색감 조정\n",
    "        transforms.ToTensor(),  # 이미지를 텐서로 변환\n",
    "        transforms.Normalize(mean=[0.5, 0.5, 0.5], std=[0.5, 0.5, 0.5])  # 이미지 정규화\n",
    "    ])\n",
    ")\n",
    "\n",
    "# 전체 데이터셋을 훈련 데이터와 검증 데이터로 나누기\n",
    "train_ratio = 0.8\n",
    "train_size = int(train_ratio * len(dataset))\n",
    "val_size = len(dataset) - train_size\n",
    "\n",
    "train_dataset, val_dataset = torch.utils.data.random_split(dataset, [train_size, val_size])\n",
    "\n",
    "# 데이터로더 생성\n",
    "batch_size = 4\n",
    "train_dataloader = DataLoader(train_dataset, batch_size=batch_size, shuffle=True)\n",
    "val_dataloader = DataLoader(val_dataset, batch_size=batch_size)"
   ]
  },
  {
   "cell_type": "code",
   "execution_count": 11,
   "metadata": {},
   "outputs": [],
   "source": [
    "# 모델 레이어 생성\n",
    "class Model(nn.Module):\n",
    "    def __init__(self):\n",
    "        super(Model, self).__init__()\n",
    "        self.conv0 = nn.Conv2d(3, 3, kernel_size=1)  \n",
    "        self.conv1 = nn.Conv2d(3, 32, kernel_size=3)\n",
    "        self.pool = nn.MaxPool2d(2, 2)\n",
    "        self.flatten = nn.Flatten()\n",
    "        self.fc1 = nn.Linear(32 * 111 * 111, 64)\n",
    "        self.fc2 = nn.Linear(64, 9)  # 클래스 수에 맞게 계속 수정\n",
    "        \n",
    "    def forward(self, x):\n",
    "        x = self.pool(nn.functional.relu(self.conv1(x)))\n",
    "        x = self.flatten(x)\n",
    "        x = nn.functional.relu(self.fc1(x))\n",
    "        x = torch.sigmoid(self.fc2(x))\n",
    "        return x.to(device)\n",
    "\n",
    "# 모델 인스턴스 생성 및 CUDA 장치로 이동\n",
    "model = Model().to(device)"
   ]
  },
  {
   "cell_type": "code",
   "execution_count": 12,
   "metadata": {},
   "outputs": [
    {
     "name": "stdout",
     "output_type": "stream",
     "text": [
      "Model(\n",
      "  (conv0): Conv2d(3, 3, kernel_size=(1, 1), stride=(1, 1))\n",
      "  (conv1): Conv2d(3, 32, kernel_size=(3, 3), stride=(1, 1))\n",
      "  (pool): MaxPool2d(kernel_size=2, stride=2, padding=0, dilation=1, ceil_mode=False)\n",
      "  (flatten): Flatten(start_dim=1, end_dim=-1)\n",
      "  (fc1): Linear(in_features=394272, out_features=64, bias=True)\n",
      "  (fc2): Linear(in_features=64, out_features=9, bias=True)\n",
      ")\n",
      "cuda\n"
     ]
    }
   ],
   "source": [
    "print(model)\n",
    "print(device)"
   ]
  },
  {
   "cell_type": "code",
   "execution_count": 13,
   "metadata": {},
   "outputs": [
    {
     "name": "stdout",
     "output_type": "stream",
     "text": [
      "Epoch 1 - Loss: 2.2335100510743433\n",
      "Epoch 2 - Loss: 2.23347408177268\n",
      "Epoch 3 - Loss: 2.233474081620719\n",
      "Epoch 4 - Loss: 2.2334740818366634\n",
      "Epoch 5 - Loss: 2.233474081748686\n",
      "Epoch 6 - Loss: 2.233474081764682\n",
      "Epoch 7 - Loss: 2.233474081716694\n",
      "Epoch 8 - Loss: 2.2334740817006984\n",
      "Epoch 9 - Loss: 2.233474081852659\n",
      "Epoch 10 - Loss: 2.2334740817886756\n"
     ]
    }
   ],
   "source": [
    "# 모델 학습시키기\n",
    "# 손실 함수와 최적화 알고리즘 설정\n",
    "criterion = nn.CrossEntropyLoss().to(device)  # 손실 함수 수정\n",
    "optimizer = optim.Adam(model.parameters(), lr=0.003)\n",
    "\n",
    "# 학습 반복\n",
    "epochs = 10\n",
    "best_accuracy = 0.0  # 가장 좋은 정확도를 저장할 변수 초기화\n",
    "best_model_path = \"best_model.pt\" # 가장 좋은 모델 매개변수의 저장 경로\n",
    "full_model_path = \"full_model.pt\" # 모델 전체를 저장할 경로 \n",
    "\n",
    "for epoch in range(epochs):\n",
    "    running_loss = 0.0\n",
    "    for images, labels in train_dataloader:\n",
    "        # 이미지와 라벨을 CUDA 장치로 이동\n",
    "        images = images.to(device)\n",
    "        labels = labels.to(device)\n",
    "        # 그래디언트 초기화\n",
    "        optimizer.zero_grad()\n",
    "        # 모델에 이미지 전달하여 예측 수행\n",
    "        outputs = model(images)\n",
    "        # 손실 계산\n",
    "        loss = criterion(outputs, labels)\n",
    "\n",
    "        # # 가중치 감소 (L2 규제)\n",
    "        # for param in model.parameters():\n",
    "        #     loss += 0.001 * torch.norm(param)\n",
    "\n",
    "        # 역전파 및 가중치 업데이트\n",
    "        loss.backward()\n",
    "        optimizer.step()\n",
    "        running_loss += loss.item()\n",
    "\n",
    "    print(f\"Epoch {epoch+1} - Loss: {running_loss / len(train_dataloader)}\")\n"
   ]
  },
  {
   "cell_type": "code",
   "execution_count": 14,
   "metadata": {},
   "outputs": [
    {
     "name": "stdout",
     "output_type": "stream",
     "text": [
      "Test Accuracy: 13.968466957396847%\n",
      "Best model saved.\n"
     ]
    }
   ],
   "source": [
    "# 검증 데이터셋을 통한 모델 평가\n",
    "with torch.no_grad():\n",
    "    correct = 0\n",
    "    total = 0\n",
    "    for images, labels in val_dataloader:\n",
    "        # 이미지와 라벨을 CUDA 장치로 이동\n",
    "        images = images.to(device)\n",
    "        labels = labels.to(device)\n",
    "\n",
    "        # 모델에 이미지 전달하여 예측 수행\n",
    "        outputs = model(images)\n",
    "        _, predicted = torch.max(outputs.data, 1)  # 예측 수정\n",
    "\n",
    "        total += labels.size(0)\n",
    "        correct += (predicted == labels).sum().item()\n",
    "\n",
    "    accuracy = 100 * correct / total\n",
    "    print(f\"Test Accuracy: {accuracy}%\")\n",
    "    \n",
    "    # 가장 좋은 정확도를 가진 모델 저장\n",
    "    if accuracy > best_accuracy:\n",
    "        best_accuracy = accuracy\n",
    "        torch.save(model, full_model_path)\n",
    "        torch.save(model.state_dict(), best_model_path)\n",
    "        print(\"Best model saved.\")"
   ]
  },
  {
   "attachments": {},
   "cell_type": "markdown",
   "metadata": {},
   "source": [
    "##### 1단계 요약\n",
    "\n",
    "간단한 모델과, 이미지 전처리 과정에서 원본 이미지가 너무 어둡고, 병 이미지가 난잡하게 퍼져 있어, 정확도를 높히는 데 어려움이 있었습니다. 또한 모델을 얹는 과정에서 레이어에 넣는 이미지 크기가 달라지면서 인식률이 떨어지는 문제 또한 존재했습니다."
   ]
  },
  {
   "attachments": {},
   "cell_type": "markdown",
   "metadata": {},
   "source": [
    "#### 2단계. 이미지 전처리 방식을 추가하고, 간단한 cnn 모델보다 더 큰 모델(Alexnet)을 사용하여 정확도를 높이기.\n",
    "\n",
    "더 나은 이미지 전처리를 위해서 https://github.com/danielgatis/rembg 사이트에서 병 뒤의 어두운 배경을 지우는 과정을 수행한 이미지들로 데이터셋을 새로 만들었고, 모델 또한 Alexnet 모델을 빠른 학습을 위해 크기를 1/10로 리사이징한 커스텀 모델을 사용하기로 하였습니다. 이미지 전처리 과정은 [깃허브 링크](https://github.com/KimSangWook57/Bottle_Project_DA/blob/main/notebooks/Image_Preprocessing.ipynb)에 과정을 올려 두었으니 참고하시기 바랍니다."
   ]
  },
  {
   "cell_type": "code",
   "execution_count": null,
   "metadata": {},
   "outputs": [
    {
     "name": "stdout",
     "output_type": "stream",
     "text": [
      "CUDA 사용 가능\n"
     ]
    }
   ],
   "source": [
    "# 패키지 다운로드\n",
    "import torch\n",
    "import torch.nn as nn\n",
    "import torch.optim as optim\n",
    "from torch.utils.data import DataLoader\n",
    "import torchvision.transforms as transforms\n",
    "import torchvision.datasets as datasets\n",
    "\n",
    "# CUDA 지원 활성화\n",
    "if torch.cuda.is_available():\n",
    "    device = torch.device(\"cuda\")\n",
    "    print(\"CUDA 사용 가능\")\n",
    "else:\n",
    "    device = torch.device(\"cpu\")\n",
    "    print(\"CUDA 사용 불가\")\n",
    "\n",
    "# CUDA 비활성화 코드\n",
    "# device = torch.device(\"cpu\")\n",
    "\n",
    "# 시드 고정\n",
    "seed = 42\n",
    "torch.manual_seed(seed)\n",
    "# GPU 절약\n",
    "torch.backends.cudnn.benchmark = True\n",
    "\n",
    "# print(torch.cuda.device_count()) # 사용 가능한 장치가 몇 개인지 확인합니다.\n",
    "# print(torch.cuda.get_device_name(0)) # 첫번째 GPU의 장치명을 확인합니다.\n",
    "# print(torch.cuda.get_device_name(1)) # 두번째 GPU의 장치명을 확인합니다.\n"
   ]
  },
  {
   "cell_type": "code",
   "execution_count": null,
   "metadata": {},
   "outputs": [],
   "source": [
    "# 데이터셋 경로\n",
    "dataset_path = \"preprocessed_bottle_images\"\n",
    "# 데이터 폴더 밑에 \"brown_bottle\", \"clear_bottle\", \"green_bottle\" 폴더가 있고, 그 밑에 각 사진들이 존재\n",
    "\n",
    "# 데이터셋 불러오기\n",
    "dataset = datasets.ImageFolder(\n",
    "    dataset_path,\n",
    "    # 데이터 증강을 위한 변환 함수들 정의\n",
    "    transform = transforms.Compose([\n",
    "        transforms.Resize((224, 224)),  # 이미지 크기 조정\n",
    "        # transforms.RandomResizedCrop(size=224),  # 무작위로 잘라내고 크기 조정\n",
    "        transforms.RandomHorizontalFlip(),  # 수평으로 무작위로 뒤집기\n",
    "        transforms.RandomRotation(degrees=30),  # 무작위로 회전 (±30도 범위)\n",
    "        transforms.ColorJitter(brightness=0.2, contrast=0.2, saturation=0.2, hue=0.2),  # 색감 조정\n",
    "        transforms.ToTensor(),  # 이미지를 텐서로 변환\n",
    "        transforms.Normalize(mean=[0.5, 0.5, 0.5], std=[0.5, 0.5, 0.5])  # 이미지 정규화\n",
    "    ])\n",
    ")\n",
    "\n",
    "# 전체 데이터셋을 훈련 데이터와 검증 데이터로 나누기\n",
    "train_ratio = 0.8\n",
    "train_size = int(train_ratio * len(dataset))\n",
    "val_size = len(dataset) - train_size\n",
    "\n",
    "train_dataset, val_dataset = torch.utils.data.random_split(dataset, [train_size, val_size])\n",
    "\n",
    "# 데이터로더 생성\n",
    "batch_size = 2\n",
    "train_dataloader = DataLoader(train_dataset, batch_size=batch_size, shuffle=True)\n",
    "val_dataloader = DataLoader(val_dataset, batch_size=batch_size)"
   ]
  },
  {
   "cell_type": "code",
   "execution_count": null,
   "metadata": {},
   "outputs": [],
   "source": [
    "# 모델 레이어 생성\n",
    "class Model(nn.Module):\n",
    "    def __init__(self):\n",
    "        super(Model, self).__init__()\n",
    "        self.conv1 = nn.Conv2d(3, 96, kernel_size=11, stride=4)\n",
    "        self.batchnorm1 = nn.BatchNorm2d(96)\n",
    "        self.pool1 = nn.MaxPool2d(3, 2)\n",
    "        \n",
    "        self.conv2 = nn.Conv2d(96, 256, kernel_size=5, padding=2)\n",
    "        self.batchnorm2 = nn.BatchNorm2d(256)\n",
    "        self.pool2 = nn.MaxPool2d(3, 2)\n",
    "        \n",
    "        self.conv3 = nn.Conv2d(256, 384, kernel_size=3, padding=1)\n",
    "        self.batchnorm3 = nn.BatchNorm2d(384)\n",
    "        \n",
    "        self.conv4 = nn.Conv2d(384, 384, kernel_size=3, padding=1)\n",
    "        self.batchnorm4 = nn.BatchNorm2d(384)\n",
    "        \n",
    "        self.conv5 = nn.Conv2d(384, 256, kernel_size=3, padding=1)\n",
    "        self.batchnorm5 = nn.BatchNorm2d(256)\n",
    "        self.pool3 = nn.AdaptiveMaxPool2d((6, 6))\n",
    "        \n",
    "        self.flatten = nn.Flatten()\n",
    "        self.fc1 = nn.Linear(256 * 6 * 6, 128)\n",
    "        self.dropout = nn.Dropout(0.5)\n",
    "        self.fc2 = nn.Linear(128, 3)\n",
    "        \n",
    "    def forward(self, x):\n",
    "        x = nn.functional.relu(self.conv1(x))\n",
    "        x = self.batchnorm1(x)\n",
    "        x = self.pool1(x)\n",
    "        \n",
    "        x = nn.functional.relu(self.conv2(x))\n",
    "        x = self.batchnorm2(x)\n",
    "        x = self.pool2(x)\n",
    "        \n",
    "        x = nn.functional.relu(self.conv3(x))\n",
    "        x = self.batchnorm3(x)\n",
    "        \n",
    "        x = nn.functional.relu(self.conv4(x))\n",
    "        x = self.batchnorm4(x)\n",
    "        \n",
    "        x = nn.functional.relu(self.conv5(x))\n",
    "        x = self.batchnorm5(x)\n",
    "        x = self.pool3(x)\n",
    "        \n",
    "        x = self.flatten(x)\n",
    "        x = nn.functional.relu(self.fc1(x))\n",
    "        x = self.dropout(x)\n",
    "        x = self.fc2(x)\n",
    "\n",
    "        return x.to(device)\n",
    "\n",
    "# 모델 인스턴스 생성 및 CUDA 장치로 이동\n",
    "model = Model().to(device)"
   ]
  },
  {
   "cell_type": "code",
   "execution_count": null,
   "metadata": {},
   "outputs": [
    {
     "name": "stdout",
     "output_type": "stream",
     "text": [
      "Model(\n",
      "  (conv1): Conv2d(3, 96, kernel_size=(11, 11), stride=(4, 4))\n",
      "  (batchnorm1): BatchNorm2d(96, eps=1e-05, momentum=0.1, affine=True, track_running_stats=True)\n",
      "  (pool1): MaxPool2d(kernel_size=3, stride=2, padding=0, dilation=1, ceil_mode=False)\n",
      "  (conv2): Conv2d(96, 256, kernel_size=(5, 5), stride=(1, 1), padding=(2, 2))\n",
      "  (batchnorm2): BatchNorm2d(256, eps=1e-05, momentum=0.1, affine=True, track_running_stats=True)\n",
      "  (pool2): MaxPool2d(kernel_size=3, stride=2, padding=0, dilation=1, ceil_mode=False)\n",
      "  (conv3): Conv2d(256, 384, kernel_size=(3, 3), stride=(1, 1), padding=(1, 1))\n",
      "  (batchnorm3): BatchNorm2d(384, eps=1e-05, momentum=0.1, affine=True, track_running_stats=True)\n",
      "  (conv4): Conv2d(384, 384, kernel_size=(3, 3), stride=(1, 1), padding=(1, 1))\n",
      "  (batchnorm4): BatchNorm2d(384, eps=1e-05, momentum=0.1, affine=True, track_running_stats=True)\n",
      "  (conv5): Conv2d(384, 256, kernel_size=(3, 3), stride=(1, 1), padding=(1, 1))\n",
      "  (batchnorm5): BatchNorm2d(256, eps=1e-05, momentum=0.1, affine=True, track_running_stats=True)\n",
      "  (pool3): AdaptiveMaxPool2d(output_size=(6, 6))\n",
      "  (flatten): Flatten(start_dim=1, end_dim=-1)\n",
      "  (fc1): Linear(in_features=9216, out_features=128, bias=True)\n",
      "  (dropout): Dropout(p=0.5, inplace=False)\n",
      "  (fc2): Linear(in_features=128, out_features=3, bias=True)\n",
      ")\n",
      "cuda\n"
     ]
    }
   ],
   "source": [
    "print(model)\n",
    "print(device)"
   ]
  },
  {
   "cell_type": "code",
   "execution_count": null,
   "metadata": {},
   "outputs": [
    {
     "name": "stdout",
     "output_type": "stream",
     "text": [
      "Epoch 1 - Loss: 1.392205896720364\n",
      "Epoch 2 - Loss: 0.9067085896188788\n",
      "Epoch 3 - Loss: 0.7957039289954239\n",
      "Epoch 4 - Loss: 0.7843154869343821\n",
      "Epoch 5 - Loss: 0.7706895248350257\n",
      "Epoch 6 - Loss: 0.7740447817030395\n",
      "Early stopping due to increasing loss\n"
     ]
    }
   ],
   "source": [
    "# 모델 학습시키기\n",
    "# 손실 함수와 최적화 알고리즘 설정\n",
    "criterion = nn.CrossEntropyLoss().to(device)  # 손실 함수 수정\n",
    "optimizer = optim.Adam(model.parameters(), lr=0.003, weight_decay=0.001)\n",
    "\n",
    "# 학습 반복\n",
    "epochs = 10\n",
    "best_accuracy = 0.0  # 가장 좋은 정확도를 저장할 변수 초기화\n",
    "best_model_path = \"best_model.pt\" # 가장 좋은 모델 매개변수의 저장 경로\n",
    "prev_loss = None\n",
    "\n",
    "# 손실 값 저장 리스트 초기화\n",
    "loss_values = []\n",
    "\n",
    "for epoch in range(epochs):\n",
    "    running_loss = 0.0\n",
    "    for images, labels in train_dataloader:\n",
    "        # 이미지와 라벨을 CUDA 장치로 이동\n",
    "        images = images.to(device)\n",
    "        labels = labels.to(device)\n",
    "        # 그래디언트 초기화\n",
    "        optimizer.zero_grad()\n",
    "        # 모델에 이미지 전달하여 예측 수행\n",
    "        outputs = model(images)\n",
    "        # 손실 계산\n",
    "        loss = criterion(outputs, labels)\n",
    "        \n",
    "        # 역전파 및 가중치 업데이트\n",
    "        loss.backward()\n",
    "        optimizer.step()\n",
    "        running_loss += loss.item()\n",
    "\n",
    "    print(f\"Epoch {epoch+1} - Loss: {running_loss / len(train_dataloader)}\")\n",
    "\n",
    "    # Early Stopping 체크\n",
    "    if prev_loss is not None and running_loss >= prev_loss:\n",
    "        print(\"Early stopping due to increasing loss\")\n",
    "        break\n",
    "    prev_loss = running_loss\n",
    "  "
   ]
  },
  {
   "cell_type": "code",
   "execution_count": null,
   "metadata": {},
   "outputs": [
    {
     "name": "stdout",
     "output_type": "stream",
     "text": [
      "Test Accuracy: 69.21936758893281%\n",
      "Best model saved.\n"
     ]
    }
   ],
   "source": [
    "# 검증 데이터셋을 통한 모델 평가\n",
    "with torch.no_grad():\n",
    "    correct = 0\n",
    "    total = 0\n",
    "    for images, labels in val_dataloader:\n",
    "        # 이미지와 라벨을 CUDA 장치로 이동\n",
    "        images = images.to(device)\n",
    "        labels = labels.to(device)\n",
    "\n",
    "        # 모델에 이미지 전달하여 예측 수행\n",
    "        outputs = model(images)\n",
    "        _, predicted = torch.max(outputs.data, 1)  # 예측 수정\n",
    "\n",
    "        total += labels.size(0)\n",
    "        correct += (predicted == labels).sum().item()\n",
    "\n",
    "    accuracy = 100 * correct / total\n",
    "    print(f\"Test Accuracy: {accuracy}%\")\n",
    "    \n",
    "    # 현재 epoch의 결과가 이전의 가장 좋은 결과보다 좋은 경우, 모델 상태 저장\n",
    "    if accuracy > best_accuracy:\n",
    "        best_accuracy = accuracy\n",
    "        torch.save(model.state_dict(), best_model_path)\n",
    "        print(\"Best model saved.\")\n",
    "        "
   ]
  },
  {
   "attachments": {},
   "cell_type": "markdown",
   "metadata": {},
   "source": [
    "- 모델 훈련 시각화 코드 추가 후 돌린 결과"
   ]
  },
  {
   "cell_type": "code",
   "execution_count": null,
   "metadata": {},
   "outputs": [
    {
     "name": "stdout",
     "output_type": "stream",
     "text": [
      "Epoch 1 - Loss: 1.2462296930727044\n",
      "Validation Accuracy: 36.01778656126482%\n",
      "Best model saved.\n",
      "Epoch 2 - Loss: 1.0791742920639957\n",
      "Validation Accuracy: 54.19960474308301%\n",
      "Best model saved.\n",
      "Epoch 3 - Loss: 0.8196223530929403\n",
      "Validation Accuracy: 70.25691699604744%\n",
      "Best model saved.\n",
      "Epoch 4 - Loss: 0.7242471379386224\n",
      "Validation Accuracy: 67.24308300395256%\n",
      "Epoch 5 - Loss: 0.703066749695648\n",
      "Validation Accuracy: 73.81422924901186%\n",
      "Best model saved.\n",
      "Epoch 6 - Loss: 0.7022176644525108\n",
      "Validation Accuracy: 71.49209486166008%\n",
      "Epoch 7 - Loss: 0.685440921222468\n",
      "Validation Accuracy: 72.38142292490119%\n",
      "Epoch 8 - Loss: 0.6758864282670302\n",
      "Validation Accuracy: 73.17193675889328%\n",
      "Epoch 9 - Loss: 0.67330396999299\n",
      "Validation Accuracy: 73.91304347826087%\n",
      "Best model saved.\n",
      "Epoch 10 - Loss: 0.6738449444800152\n",
      "Validation Accuracy: 60.22727272727273%\n"
     ]
    },
    {
     "data": {
      "image/png": "[encoded data removed]",
      "text/plain": [
       "<Figure size 640x480 with 1 Axes>"
      ]
     },
     "metadata": {},
     "output_type": "display_data"
    },
    {
     "data": {
      "image/png": "[encoded data removed]",
      "text/plain": [
       "<Figure size 640x480 with 1 Axes>"
      ]
     },
     "metadata": {},
     "output_type": "display_data"
    }
   ],
   "source": [
    "import matplotlib.pyplot as plt\n",
    "\n",
    "# 모델 학습시키기\n",
    "# 손실 함수와 최적화 알고리즘 설정\n",
    "criterion = nn.CrossEntropyLoss().to(device)  # 손실 함수 수정\n",
    "optimizer = optim.Adam(model.parameters(), lr=0.003, weight_decay=0.001)\n",
    "\n",
    "# 학습 반복\n",
    "epochs = 10\n",
    "best_accuracy = 0.0  # 가장 좋은 정확도를 저장할 변수 초기화\n",
    "best_model_path = \"best_model.pt\" # 가장 좋은 모델 매개변수의 저장 경로\n",
    "prev_loss = None\n",
    "\n",
    "# 손실(loss) 및 정확도(accuracy) 기록을 위한 리스트 초기화\n",
    "loss_values = []\n",
    "accuracy_values = []\n",
    "\n",
    "# Early stopping 관련 변수 초기화\n",
    "early_stopping_count = 0\n",
    "early_stopping_threshold = 3\n",
    "\n",
    "# 학습 반복\n",
    "epochs = 10\n",
    "best_accuracy = 0.0\n",
    "best_model_path = \"best_model.pt\"\n",
    "prev_loss = None\n",
    "\n",
    "for epoch in range(epochs):\n",
    "    running_loss = 0.0\n",
    "    for images, labels in train_dataloader:\n",
    "        # 이미지와 라벨을 CUDA 장치로 이동\n",
    "        images = images.to(device)\n",
    "        labels = labels.to(device)\n",
    "\n",
    "        optimizer.zero_grad()\n",
    "        outputs = model(images)\n",
    "        loss = criterion(outputs, labels)\n",
    "        loss.backward()\n",
    "        optimizer.step()\n",
    "        running_loss += loss.item()\n",
    "\n",
    "    epoch_loss = running_loss / len(train_dataloader)\n",
    "    loss_values.append(epoch_loss)\n",
    "    print(f\"Epoch {epoch+1} - Loss: {epoch_loss}\")\n",
    "\n",
    "    # 검증 데이터셋을 통한 정확도 계산\n",
    "    with torch.no_grad():\n",
    "        correct = 0\n",
    "        total = 0\n",
    "        for images, labels in val_dataloader:\n",
    "            images = images.to(device)\n",
    "            labels = labels.to(device)\n",
    "            outputs = model(images)\n",
    "            _, predicted = torch.max(outputs.data, 1)\n",
    "            total += labels.size(0)\n",
    "            correct += (predicted == labels).sum().item()\n",
    "\n",
    "        epoch_accuracy = 100 * correct / total\n",
    "        accuracy_values.append(epoch_accuracy)\n",
    "\n",
    "        print(f\"Validation Accuracy: {epoch_accuracy}%\")\n",
    "\n",
    "    # 현재 epoch의 결과가 이전의 가장 좋은 결과보다 좋은 경우, 모델 상태 저장\n",
    "    if epoch_accuracy > best_accuracy:\n",
    "        best_accuracy = epoch_accuracy\n",
    "        torch.save(model.state_dict(), best_model_path)\n",
    "        print(\"Best model saved.\")\n",
    "\n",
    "# 손실 그래프\n",
    "plt.plot(loss_values)\n",
    "plt.xlabel('Epochs')\n",
    "plt.ylabel('Loss')\n",
    "plt.title('Training Loss')\n",
    "plt.show()\n",
    "\n",
    "# 정확도 그래프\n",
    "plt.plot(accuracy_values)\n",
    "plt.xlabel('Epochs')\n",
    "plt.ylabel('Accuracy')\n",
    "plt.title('Validation Accuracy')\n",
    "plt.show()"
   ]
  },
  {
   "attachments": {},
   "cell_type": "markdown",
   "metadata": {},
   "source": [
    "<img src=\"../screenshots/%EC%BB%A4%EC%8A%A4%ED%85%80%20%EB%AA%A8%EB%8D%B8%20%EA%B2%B0%EA%B3%BC%EA%B0%92%20%EC%98%88%EC%8B%9C_02.PNG\">\n",
    "그림 1. 커스텀 모델을 통해 결과값을 받는 예시로, 가장 높은 양수값을 가지는 클래스를 반환하고 있다."
   ]
  },
  {
   "attachments": {},
   "cell_type": "markdown",
   "metadata": {},
   "source": [
    "##### 2단계 요약\n",
    "\n",
    "판별률이 기존 19%에서 최대 73%까지 상승하여 확연히 좋아졌지만, 실제 병에 대해서는 결과를 제대로 내지 못하는 과적합 문제가 발생했습니다. 하지만 학습을 거의 하지 못하던 cnn 모델에 비해, 적어도 주어진 이미지에 대해서만큼은 유의미한 학습을 시키는 것에 성공했습니다."
   ]
  },
  {
   "attachments": {},
   "cell_type": "markdown",
   "metadata": {},
   "source": [
    "#### 3단계. yolov5 커스텀 모델을 위한 데이터셋을 만들어서 학습시켜 보기.\n",
    "\n",
    "앞의 두 예시를 통해 기존의 좋은 모델을 사용하여 학습을 시켜야 할 필요성을 느꼈기에, 제가 직접 커스텀 모델 레이어를 하나하나씩 쌓아서 모델을 만드는 것은 너무 시간이 많이 걸릴 것으로 판단되어, 기존의 물체 판별 모델인 yolov5를 유리병의 색깔(투명/갈색/녹색)을 판별하는 데 특화시키도록 커스텀한 모델을 만들어 보기로 하였고, 이를 위해 라벨링 프로그램들을 활용하여 파일에 라벨을 매기는 작업을 실행하였습니다."
   ]
  },
  {
   "attachments": {},
   "cell_type": "markdown",
   "metadata": {},
   "source": [
    "##### Case 1. labelimg 프로그램 사용.\n",
    "\n",
    "yolov5 모델 라벨링을 위한 간단한 프로그램 중 하나인 [labelimg](https://github.com/heartexlabs/labelImg)라는 프로그램을 다운받아서 사용해 보았습니다. "
   ]
  },
  {
   "attachments": {},
   "cell_type": "markdown",
   "metadata": {},
   "source": [
    "<img src=\"../screenshots/labelimg%20%EC%82%AC%EC%9A%A9%20%EC%98%88%EC%8B%9C_01.PNG\"> \\\n",
    "그림 1. labelimg 이미지 라벨링 작업 과정"
   ]
  },
  {
   "attachments": {},
   "cell_type": "markdown",
   "metadata": {},
   "source": [
    "<img src=\"../screenshots/yolov5%20%EC%BB%A4%EC%8A%A4%ED%85%80%20%EB%AA%A8%EB%8D%B8%20%ED%95%99%EC%8A%B5%20%EC%98%88%EC%8B%9C_01.PNG\">\n",
    "그림 2. yolov5 모델 학습 과정"
   ]
  },
  {
   "attachments": {},
   "cell_type": "markdown",
   "metadata": {},
   "source": [
    "<img src=\"../screenshots/yolov5%20%EC%BB%A4%EC%8A%A4%ED%85%80%20%EB%AA%A8%EB%8D%B8%20%EB%AC%B8%EC%A0%9C%EC%A0%90%20%EC%98%88%EC%8B%9C_01.PNG\" width=\"50%\" height=\"50%\"> \\\n",
    "그림 3. 모델 학습 결과 예시. bbox가 제대로 학습되지 않았다."
   ]
  },
  {
   "attachments": {},
   "cell_type": "markdown",
   "metadata": {},
   "source": [
    "##### Case 1의 문제점\n",
    "\n",
    "프로그램으로 bbox를 제대로 그렸음에도 불구하고, 실제로 학습을 시키자 bbox 값이 어긋나서 학습에 실패하였습니다. 따라서 새로운 이미지 라벨링 툴을 사용할 필요성이 생겼습니다."
   ]
  },
  {
   "attachments": {},
   "cell_type": "markdown",
   "metadata": {},
   "source": [
    "##### Case 2. roboflow 사이트 사용.\n",
    "\n",
    "[roboflow](https://app.roboflow.com/) 사이트에서 라벨링 작업을 지원해서, 사이트에서 라벨링 작업을 진행했습니다. 학습을 위해 작업한 데이터셋은 [여기](https://universe.roboflow.com/project-rfxjh/bottle-c8pb4/dataset/2)에서 확인하실 수 있습니다."
   ]
  },
  {
   "attachments": {},
   "cell_type": "markdown",
   "metadata": {},
   "source": [
    "<img src=\"../screenshots/yolov5%20roboflow%20labeling%20%ED%95%99%EC%8A%B5%20%EC%98%88%EC%8B%9C_01.PNG\"> \\\n",
    "그림 1. roboflow 이미지 라벨링 작업 과정"
   ]
  },
  {
   "attachments": {},
   "cell_type": "markdown",
   "metadata": {},
   "source": [
    "<img src=\"../screenshots/yolov5%20%EC%BB%A4%EC%8A%A4%ED%85%80%20%EB%AA%A8%EB%8D%B8%20%ED%95%99%EC%8A%B5%20%EC%98%88%EC%8B%9C_03.PNG\" width=\"50%\" height=\"50%\"> \\\n",
    "그림 2. 모델 학습 결과 예시. 라벨링한 형태를 거의 대부분 잘 인식함"
   ]
  },
  {
   "attachments": {},
   "cell_type": "markdown",
   "metadata": {},
   "source": [
    "<img src=\"../screenshots/yolov5%20%EC%BB%A4%EC%8A%A4%ED%85%80%20%EB%AA%A8%EB%8D%B8%20%ED%8C%90%EB%B3%84%20%EC%98%88%EC%8B%9C_01.PNG\" width=\"50%\" height=\"50%\"> \\\n",
    "그림 3. 실제 이미지 인식 결과를 창으로 띄우는 예시"
   ]
  },
  {
   "attachments": {},
   "cell_type": "markdown",
   "metadata": {},
   "source": [
    "##### 3단계 요약 및 보완점\n",
    "\n",
    "커스텀 모델을 개발하는 데 성공했지만, 여러 문제점들 또한 발견할 수 있었습니다.\n",
    "\n",
    "1. 데이터셋을 만들 때 몇몇 이미지는 병의 부분 이미지를 bbox로 정해서 넣었는데, 그 결과 병 하나를 두고 병의 일부분도 병으로 잡아서, 결과적으로 병을 2개 이상 판별해버리는 문제점이 생겼습니다. 이미지 라벨링을 할 때는 굳이 부분 병 이미지를 넣을 필요 없이, 전체 병 이미지만 사용해야 할 것입니다. 하지만 병 일부만 보고도 바로 병을 판별하기는 하므로, 뒤집어 생각하면 병의 일부라도 보고 바로 판별하는 신속함이 필요하다면, 차라리 부분 그 자체에 집중한 이미지들을 학습시키면 될 것입니다.\n",
    "\n",
    "2. 데이터셋의 이미지들이 비스듬히 세워져 있거나, 누워 있거나, 거꾸로 뒤집힌 모습들이 있는 것은 좋으나, 그러한 이미지들이 너무 많은 관계로, 오히려 정면 이미지에 대한 판별률은 떨어지는 문제가 발생했습니다. 이미지 데이터셋을 만들 때, 변주를 주는 것은 데이터 전처리 중에 데이터 증강 과정을 통해 해결할 수 있으므로, 판별을 위한 제일 기초적인 형태의 이미지가 가장 많이 필요할 것입니다. 물론 이러한 기울어진 병 이미지들을 판별하는 것이 더 중요하다면, 이 이미지셋이 목적에 부합한다고 볼 수 있을 것입니다.\n",
    "\n",
    "3. 1번과 2번에서 모두 일부분적으로 나타나는 문제인데, yolov5 모델 특성상 비슷한 특성을 여러 개 발견하면 하나의 물체에 여러 개의 bbox를 매기는 문제점이 발생합니다. 따라서 한 번에 하나의 병만 찾으려 한다면, 애매한 분류를 하기보다 특징을 확실하게 잡을 수 있도록 하는 것이 중요하다고 생각됩니다. 예를 들어 상표가 붙어 있는 것과 없는 것을 구분하려고 한다면, 먼저 병 형태를 모두 구분한 뒤, 상표가 붙은 모든 병에서 상표 부분만을 구분하게 할 수 있도록 구현해야 할 것입니다.\n"
   ]
  },
  {
   "attachments": {},
   "cell_type": "markdown",
   "metadata": {},
   "source": [
    "### 결론 및 소감\n",
    "\n",
    "프로젝트 진행을 위해서, 교육 시간에 배운 기초적인 CNN 모델부터, 더욱 복잡한 모델을 만들어서 병 판별에 대한 성능을 올리는 과정을 거쳐, yolov5 custom model 학습까지의 과정을 마무리하면서 느낀 점은, 모델을 직접 만들어 보고 적용하는 과정에서 개발의 어려움과 이미지 전처리의 중요성을 인지하고, yolov5 모델을 커스텀하면서 원하는 목표를 위한 데어터셋과 이미지 전처리 방향을 명확하게 잡아야 한다는 것이었습니다.\n",
    "\n",
    "결론짓자면, yolov5라는 도구를 제시받아서, 그에 맞춘 데이터셋을 맞추기 위한 지식을 얻을 수 있었다는 점에서 저의 이미지 처리 실력을 높일 수 있었던 프로젝트였다고 생각됩니다. "
   ]
  }
 ],
 "metadata": {
  "kernelspec": {
   "display_name": "venv",
   "language": "python",
   "name": "python3"
  },
  "language_info": {
   "codemirror_mode": {
    "name": "ipython",
    "version": 3
   },
   "file_extension": ".py",
   "mimetype": "text/x-python",
   "name": "python",
   "nbconvert_exporter": "python",
   "pygments_lexer": "ipython3",
   "version": "3.10.10"
  },
  "orig_nbformat": 4
 },
 "nbformat": 4,
 "nbformat_minor": 2
}
