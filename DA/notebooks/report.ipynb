{
 "cells": [
  {
   "attachments": {},
   "cell_type": "markdown",
   "metadata": {},
   "source": [
    "# 데이터셋 분석 및 모델 생성 코드 분석"
   ]
  },
  {
   "attachments": {},
   "cell_type": "markdown",
   "metadata": {},
   "source": [
    "### 요약\n",
    "\n",
    "본 문서는 병 판별 프로젝트를 위해 만든 데이터셋을 분석하는 과정과, 데이터 모델 제작에 관한 코드를 모아 놓은 보고서입니다."
   ]
  },
  {
   "attachments": {},
   "cell_type": "markdown",
   "metadata": {},
   "source": [
    "### 목차\n",
    "\n",
    "1. 데이터셋 분석\n",
    "    - 커스텀 모델 데이터셋\n",
    "    - 데이터셋 라벨 분류\n",
    "2. 데이터모델 분석\n",
    "    - 커스텀 모델 설계\n",
    "        - 공통목표\n",
    "        - 1단계\n",
    "        - 2단계\n",
    "        - 3단계\n",
    "        - 이미지 캡셔닝"
   ]
  },
  {
   "attachments": {},
   "cell_type": "markdown",
   "metadata": {},
   "source": [
    "## 1. 데이터셋 분석"
   ]
  },
  {
   "attachments": {},
   "cell_type": "markdown",
   "metadata": {},
   "source": [
    "#### 커스텀 모델 데이터셋\n",
    "\n",
    "- 링크 : https://aihub.or.kr/aihubdata/data/view.do?currMenu=115&topMenu=100&dataSetSn=71385\n",
    "- AI-Hub의 생활 폐기물 이미지 데이터 원본 551,562장 중에서, 원본 이미지와 함께 있는 JSON 파일의 태그를 활용하여 병 이미지가 있는 이미지를 1차 판별하고, 그 중에서 JSON 파일만 있거나 사진만 있는 파일들을 솎아내는 2차 판별을 시행하여, 총 72,000장의 병 이미지를 분류했습니다.\n",
    "- 분류된 이미지들을 데이터셋의 JSON label에 따라 9종으로 구분하여 각 폴더에 담은 뒤, 각 이미지를 JSON의 BBOX 좌표를 활용하여 병이 있는 부분을 잘라낸 뒤, 잘라낸 이미지를 224x224 크기로 변환하여, 예시를 위해 각 100장씩을 sample_data 폴더에 담아 놓았습니다."
   ]
  },
  {
   "attachments": {},
   "cell_type": "markdown",
   "metadata": {},
   "source": [
    "#### 데이터셋 라벨 분류\n",
    "\n",
    "- 데이터셋의 JSON 라벨은 다음과 같이 9종류로 분류되어 있었고, 라벨의 정확한 분류는 다음과 같습니다.\n",
    "\n",
    "|JSON 라벨|실제 라벨|\n",
    "|------|---|\n",
    "|c_4_01_01|재사용 유리 + 다중포장재|\n",
    "|c_4_01_02|재사용 유리(소주병+맥주병)|\n",
    "|c_4_02_01_01|갈색 유리 + 다중포장재|\n",
    "|c_4_02_01_02|갈색 유리|\n",
    "|c_4_02_02_01|녹색 유리 + 다중포장재|\n",
    "|c_4_02_02_02|녹색 유리|\n",
    "|c_4_02_03_01|백색 유리 + 다중포장재|\n",
    "|c_4_02_03_02|백색 유리|\n",
    "|c_4_03|기타 유리|"
   ]
  },
  {
   "attachments": {},
   "cell_type": "markdown",
   "metadata": {},
   "source": [
    "# 2. 데이터모델 분석"
   ]
  },
  {
   "attachments": {},
   "cell_type": "markdown",
   "metadata": {},
   "source": [
    "#### 커스텀 모델 설계"
   ]
  },
  {
   "attachments": {},
   "cell_type": "markdown",
   "metadata": {},
   "source": [
    "- 공통적으로 모든 모델은 x값으로 이미지를 받으며, 각 모델별로 반환하는 y값은 각 단계별로 적을 예정. 모든 모델은 pytorch를 활용해 훈련했습니다."
   ]
  },
  {
   "attachments": {},
   "cell_type": "markdown",
   "metadata": {},
   "source": [
    "- 1단계. cnn으로 데이터셋 라벨 기준에 따라 병 종류(색깔)를 파악하여, 색깔과 bbox값을 반환하도록 하기. 상세 코드는 아래 칸에 작성했습니다."
   ]
  },
  {
   "cell_type": "code",
   "execution_count": 8,
   "metadata": {},
   "outputs": [
    {
     "name": "stdout",
     "output_type": "stream",
     "text": [
      "CUDA 사용 가능\n"
     ]
    }
   ],
   "source": [
    "# 패키지 다운로드\n",
    "import torch\n",
    "import torch.nn as nn\n",
    "import torch.optim as optim\n",
    "from torch.utils.data import DataLoader\n",
    "import torchvision.transforms as transforms\n",
    "import torchvision.datasets as datasets\n",
    "\n",
    "# CUDA 지원 활성화\n",
    "if torch.cuda.is_available():\n",
    "    device = torch.device(\"cuda\")\n",
    "    print(\"CUDA 사용 가능\")\n",
    "else:\n",
    "    device = torch.device(\"cpu\")\n",
    "    print(\"CUDA 사용 불가\")\n",
    "\n",
    "# 시드 고정\n",
    "seed = 42\n",
    "torch.manual_seed(seed)\n",
    "# GPU 절약\n",
    "torch.backends.cudnn.benchmark = True\n",
    "\n",
    "# print(torch.cuda.device_count()) # 사용 가능한 장치가 몇 개인지 확인합니다.\n",
    "# print(torch.cuda.get_device_name(0)) # 첫번째 GPU의 장치명을 확인합니다.\n",
    "# print(torch.cuda.get_device_name(1)) # 두번째 GPU의 장치명을 확인합니다.\n"
   ]
  },
  {
   "cell_type": "code",
   "execution_count": 9,
   "metadata": {},
   "outputs": [],
   "source": [
    "# 이미지 라벨 생성\n",
    "def get_label_from_foldername(foldername):\n",
    "    # 각 폴더의 이름에 따라 라벨을 할당\n",
    "    if foldername == \"preprocessed_brown_glass\":\n",
    "        return \"0\"\n",
    "    elif foldername == \"preprocessed_brown_glass_packaging\":\n",
    "        return \"1\"\n",
    "    elif foldername == \"preprocessed_clear_glass\":\n",
    "        return \"2\"\n",
    "    elif foldername == \"preprocessed_clear_glass_packaging\":\n",
    "        return \"3\"\n",
    "    elif foldername == \"preprocessed_green_glass\":\n",
    "        return \"4\"\n",
    "    elif foldername == \"preprocessed_green_glass_packaging\":\n",
    "        return \"5\"\n",
    "    elif foldername == \"preprocessed_reused_glass\":\n",
    "        return \"6\"\n",
    "    elif foldername == \"preprocessed_reused_glass_packaging\":\n",
    "        return \"7\"\n",
    "    elif foldername == \"preprocessed_unclassified_glass\":\n",
    "        return \"8\"\n",
    "    else:\n",
    "        raise ValueError(f\"Invalid folder name: {foldername}\")"
   ]
  },
  {
   "cell_type": "code",
   "execution_count": 10,
   "metadata": {},
   "outputs": [],
   "source": [
    "# 데이터셋 경로\n",
    "dataset_path = \"preprocessed_image\"\n",
    "\n",
    "# 데이터셋 불러오기\n",
    "dataset = datasets.ImageFolder(\n",
    "    dataset_path,\n",
    "    # 데이터 증강을 위한 변환 함수들 정의\n",
    "    transform = transforms.Compose([\n",
    "        transforms.Resize((224, 224)),  # 이미지 크기 조정\n",
    "        # transforms.RandomResizedCrop(size=224),  # 무작위로 잘라내고 크기 조정\n",
    "        transforms.RandomHorizontalFlip(),  # 수평으로 무작위로 뒤집기\n",
    "        transforms.RandomRotation(degrees=30),  # 무작위로 회전 (±30도 범위)\n",
    "        transforms.ColorJitter(brightness=0.2, contrast=0.2, saturation=0.2, hue=0.2),  # 색감 조정\n",
    "        transforms.ToTensor(),  # 이미지를 텐서로 변환\n",
    "        transforms.Normalize(mean=[0.5, 0.5, 0.5], std=[0.5, 0.5, 0.5])  # 이미지 정규화\n",
    "    ])\n",
    ")\n",
    "\n",
    "# 전체 데이터셋을 훈련 데이터와 검증 데이터로 나누기\n",
    "train_ratio = 0.8\n",
    "train_size = int(train_ratio * len(dataset))\n",
    "val_size = len(dataset) - train_size\n",
    "\n",
    "train_dataset, val_dataset = torch.utils.data.random_split(dataset, [train_size, val_size])\n",
    "\n",
    "# 데이터로더 생성\n",
    "batch_size = 4\n",
    "train_dataloader = DataLoader(train_dataset, batch_size=batch_size, shuffle=True)\n",
    "val_dataloader = DataLoader(val_dataset, batch_size=batch_size)"
   ]
  },
  {
   "cell_type": "code",
   "execution_count": 11,
   "metadata": {},
   "outputs": [],
   "source": [
    "# 모델 레이어 생성\n",
    "class Model(nn.Module):\n",
    "    def __init__(self):\n",
    "        super(Model, self).__init__()\n",
    "        self.conv0 = nn.Conv2d(3, 3, kernel_size=1)  # 추가된 레이어\n",
    "        self.conv1 = nn.Conv2d(3, 32, kernel_size=3)\n",
    "        self.pool = nn.MaxPool2d(2, 2)\n",
    "        self.flatten = nn.Flatten()\n",
    "        self.fc1 = nn.Linear(32 * 111 * 111, 64)\n",
    "        self.fc2 = nn.Linear(64, 9)  # 클래스 수에 맞게 계속 수정\n",
    "        \n",
    "    def forward(self, x):\n",
    "        x = self.pool(nn.functional.relu(self.conv1(x)))\n",
    "        x = self.flatten(x)\n",
    "        x = nn.functional.relu(self.fc1(x))\n",
    "        x = torch.sigmoid(self.fc2(x))\n",
    "        return x.to(device)\n",
    "\n",
    "# 모델 인스턴스 생성 및 CUDA 장치로 이동\n",
    "model = Model().to(device)"
   ]
  },
  {
   "cell_type": "code",
   "execution_count": 12,
   "metadata": {},
   "outputs": [
    {
     "name": "stdout",
     "output_type": "stream",
     "text": [
      "Model(\n",
      "  (conv0): Conv2d(3, 3, kernel_size=(1, 1), stride=(1, 1))\n",
      "  (conv1): Conv2d(3, 32, kernel_size=(3, 3), stride=(1, 1))\n",
      "  (pool): MaxPool2d(kernel_size=2, stride=2, padding=0, dilation=1, ceil_mode=False)\n",
      "  (flatten): Flatten(start_dim=1, end_dim=-1)\n",
      "  (fc1): Linear(in_features=394272, out_features=64, bias=True)\n",
      "  (fc2): Linear(in_features=64, out_features=9, bias=True)\n",
      ")\n",
      "cuda\n"
     ]
    }
   ],
   "source": [
    "print(model)\n",
    "print(device)"
   ]
  },
  {
   "cell_type": "code",
   "execution_count": 13,
   "metadata": {},
   "outputs": [
    {
     "name": "stdout",
     "output_type": "stream",
     "text": [
      "Epoch 1 - Loss: 2.2335100510743433\n",
      "Epoch 2 - Loss: 2.23347408177268\n",
      "Epoch 3 - Loss: 2.233474081620719\n",
      "Epoch 4 - Loss: 2.2334740818366634\n",
      "Epoch 5 - Loss: 2.233474081748686\n",
      "Epoch 6 - Loss: 2.233474081764682\n",
      "Epoch 7 - Loss: 2.233474081716694\n",
      "Epoch 8 - Loss: 2.2334740817006984\n",
      "Epoch 9 - Loss: 2.233474081852659\n",
      "Epoch 10 - Loss: 2.2334740817886756\n"
     ]
    }
   ],
   "source": [
    "# 모델 학습시키기\n",
    "# 손실 함수와 최적화 알고리즘 설정\n",
    "criterion = nn.CrossEntropyLoss().to(device)  # 손실 함수 수정\n",
    "optimizer = optim.Adam(model.parameters(), lr=0.003)\n",
    "\n",
    "# 학습 반복\n",
    "epochs = 10\n",
    "best_accuracy = 0.0  # 가장 좋은 정확도를 저장할 변수 초기화\n",
    "best_model_path = \"best_model.pt\" # 가장 좋은 모델 매개변수의 저장 경로\n",
    "full_model_path = \"full_model.pt\" # 모델 전체를 저장할 경로 \n",
    "\n",
    "for epoch in range(epochs):\n",
    "    running_loss = 0.0\n",
    "    for images, labels in train_dataloader:\n",
    "        # 이미지와 라벨을 CUDA 장치로 이동\n",
    "        images = images.to(device)\n",
    "        labels = labels.to(device)\n",
    "        # 그래디언트 초기화\n",
    "        optimizer.zero_grad()\n",
    "        # 모델에 이미지 전달하여 예측 수행\n",
    "        outputs = model(images)\n",
    "        # 손실 계산\n",
    "        loss = criterion(outputs, labels)\n",
    "\n",
    "        # # 가중치 감소 (L2 규제)\n",
    "        # for param in model.parameters():\n",
    "        #     loss += 0.001 * torch.norm(param)\n",
    "\n",
    "        # 역전파 및 가중치 업데이트\n",
    "        loss.backward()\n",
    "        optimizer.step()\n",
    "        running_loss += loss.item()\n",
    "\n",
    "    print(f\"Epoch {epoch+1} - Loss: {running_loss / len(train_dataloader)}\")\n"
   ]
  },
  {
   "cell_type": "code",
   "execution_count": 14,
   "metadata": {},
   "outputs": [
    {
     "name": "stdout",
     "output_type": "stream",
     "text": [
      "Test Accuracy: 13.968466957396847%\n",
      "Best model saved.\n"
     ]
    }
   ],
   "source": [
    "# 검증 데이터셋을 통한 모델 평가\n",
    "with torch.no_grad():\n",
    "    correct = 0\n",
    "    total = 0\n",
    "    for images, labels in val_dataloader:\n",
    "        # 이미지와 라벨을 CUDA 장치로 이동\n",
    "        images = images.to(device)\n",
    "        labels = labels.to(device)\n",
    "\n",
    "        # 모델에 이미지 전달하여 예측 수행\n",
    "        outputs = model(images)\n",
    "        _, predicted = torch.max(outputs.data, 1)  # 예측 수정\n",
    "\n",
    "        total += labels.size(0)\n",
    "        correct += (predicted == labels).sum().item()\n",
    "\n",
    "    accuracy = 100 * correct / total\n",
    "    print(f\"Test Accuracy: {accuracy}%\")\n",
    "    \n",
    "    # 가장 좋은 정확도를 가진 모델 저장\n",
    "    if accuracy > best_accuracy:\n",
    "        best_accuracy = accuracy\n",
    "        torch.save(model, full_model_path)\n",
    "        torch.save(model.state_dict(), best_model_path)\n",
    "        print(\"Best model saved.\")"
   ]
  },
  {
   "attachments": {},
   "cell_type": "markdown",
   "metadata": {},
   "source": [
    "- 2. cnn과 lstm을 활용해 더 정확히 판별할 수 있도록 업데이트"
   ]
  },
  {
   "attachments": {},
   "cell_type": "markdown",
   "metadata": {},
   "source": [
    "- 3. 깨진 병 이미지, 상표 이미지 데이터를 구해서 병의 종류와 만든 회사, 파손 여부를 반환할 수 있게 하기"
   ]
  }
 ],
 "metadata": {
  "kernelspec": {
   "display_name": "venv",
   "language": "python",
   "name": "python3"
  },
  "language_info": {
   "codemirror_mode": {
    "name": "ipython",
    "version": 3
   },
   "file_extension": ".py",
   "mimetype": "text/x-python",
   "name": "python",
   "nbconvert_exporter": "python",
   "pygments_lexer": "ipython3",
   "version": "3.10.10"
  },
  "orig_nbformat": 4
 },
 "nbformat": 4,
 "nbformat_minor": 2
}
